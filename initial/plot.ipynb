{
 "cells": [
  {
   "cell_type": "code",
   "execution_count": 15,
   "metadata": {},
   "outputs": [
    {
     "data": {
      "text/plain": [
       "<matplotlib.text.Text at 0x10cf786d8>"
      ]
     },
     "execution_count": 15,
     "metadata": {},
     "output_type": "execute_result"
    },
    {
     "data": {
      "image/png": "[encoded data removed]",
      "text/plain": [
       "<matplotlib.figure.Figure at 0x10ce11710>"
      ]
     },
     "metadata": {},
     "output_type": "display_data"
    }
   ],
   "source": [
    "import numpy as np\n",
    "%matplotlib notebook\n",
    "import matplotlib.pyplot as plt\n",
    "from IPython import display\n",
    "\n",
    "initial_x1=np.loadtxt('initial_x1.txt')\n",
    "initial_x2=np.loadtxt('initial_x2.txt')\n",
    "initial_x3=np.loadtxt('initial_x3.txt')\n",
    "initial_y1=np.loadtxt('initial_y1.txt')\n",
    "initial_y2=np.loadtxt('initial_y2.txt')\n",
    "initial_y3=np.loadtxt('initial_y3.txt')\n",
    "\n",
    "\n",
    "def initial(initial_x,initial_y):\n",
    "    initial.x=np.array(initial_x)\n",
    "    initial.y=np.array(initial_y)\n",
    "    return initial\n",
    "\n",
    "initial_1=initial(initial_x1,initial_y1)\n",
    "initial_2=initial(initial_x2,initial_y2)\n",
    "initial_3=initial(initial_x3,initial_y3)\n",
    "\n",
    "plt.figure()\n",
    "#plt.plot(1e4*initial_1.x,1e4*initial_1.y, 'ro',ms=1)\n",
    "plt.plot(1e4*initial_2.x,1e4*initial_2.y, 'bo',ms=1)\n",
    "plt.plot(1e4*initial_3.x,1e4*initial_3.y, 'go',ms=1)\n",
    "\n",
    "xmax=3;\n",
    "ymax=3;\n",
    "plt.xlim([-xmax,xmax])\n",
    "plt.ylim([-ymax,ymax])\n",
    "plt.axes().set_aspect('equal','datalim')\n",
    "plt.xlabel('x/mm')\n",
    "plt.ylabel('y/mm')"
   ]
  },
  {
   "cell_type": "code",
   "execution_count": null,
   "metadata": {},
   "outputs": [],
   "source": []
  }
 ],
 "metadata": {
  "kernelspec": {
   "display_name": "Python 3",
   "language": "python",
   "name": "python3"
  },
  "language_info": {
   "codemirror_mode": {
    "name": "ipython",
    "version": 3
   },
   "file_extension": ".py",
   "mimetype": "text/x-python",
   "name": "python",
   "nbconvert_exporter": "python",
   "pygments_lexer": "ipython3",
   "version": "3.5.4"
  }
 },
 "nbformat": 4,
 "nbformat_minor": 2
}
